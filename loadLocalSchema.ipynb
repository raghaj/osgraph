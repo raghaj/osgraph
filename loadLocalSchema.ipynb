{
 "cells": [
  {
   "cell_type": "code",
   "execution_count": 2,
   "id": "ccfafd87",
   "metadata": {},
   "outputs": [],
   "source": [
    "import pyTigerGraph as tg\n",
    "import networkx as nx\n",
    "import pandas as pd\n",
    "from matplotlib import pyplot as plt\n",
    "import json\n",
    "# Imports\n",
    "import pyTigerGraph as tg\n",
    "import json\n",
    "import pandas as pd\n"
   ]
  },
  {
   "cell_type": "code",
   "execution_count": 3,
   "id": "96c69f57",
   "metadata": {},
   "outputs": [
    {
     "name": "stdout",
     "output_type": "stream",
     "text": [
      "Connected\n"
     ]
    }
   ],
   "source": [
    "# Connection parameters\n",
    "hostName = \"http://localhost\"\n",
    "userName = \"tigergraph\"\n",
    "password = \"tigergraph\"\n",
    "\n",
    "conn = tg.TigerGraphConnection(host=hostName, username=userName, password=password, sslPort='14240')\n",
    "graphName = \"MedGraph\"\n",
    "conn.graphname = graphName\n",
    "\n",
    "print(\"Connected\")"
   ]
  },
  {
   "cell_type": "code",
   "execution_count": 4,
   "id": "678e0300",
   "metadata": {},
   "outputs": [],
   "source": [
    "# conn.gsql('''\n",
    "# DROP ALL\n",
    "# ''')"
   ]
  },
  {
   "cell_type": "code",
   "execution_count": 5,
   "id": "c5877968",
   "metadata": {},
   "outputs": [
    {
     "name": "stdout",
     "output_type": "stream",
     "text": [
      "Failed to create vertex types: [Gender].\n"
     ]
    }
   ],
   "source": [
    "result = conn.gsql('''\n",
    "CREATE VERTEX Gender(PRIMARY_ID gender_id STRING) WITH primary_id_as_attribute=\"true\"\n",
    "CREATE VERTEX Race(PRIMARY_ID race_id STRING) WITH primary_id_as_attribute=\"true\"\n",
    "CREATE VERTEX Ethnicity(PRIMARY_ID ethnicity_id STRING) WITH primary_id_as_attribute=\"true\"\n",
    "CREATE VERTEX Patient(PRIMARY_ID patient_id STRING, lastName STRING, firstName STRING, maiden STRING,\n",
    "                      birthday DATETIME, ssn STRING, license STRING, passport STRING,\n",
    "                      healthcareExpense DOUBLE, healthcareCoverage DOUBLE, suffix STRING, prefix STRING, maritalStatus STRING, birthplace STRING) WITH primary_id_as_attribute=\"true\"\n",
    "CREATE VERTEX Allergies(PRIMARY_ID allergy_id STRING, allergy_code STRING, description STRING, startDate DATETIME, endDate DATETIME) WITH primary_id_as_attribute=\"true\"\n",
    "CREATE VERTEX Immunizations(PRIMARY_ID immunization_id STRING, immunization_code STRING, description STRING, dateOfImmunization DATETIME, baseCost DOUBLE) WITH primary_id_as_attribute=\"true\"\n",
    "''')\n",
    "print(result)"
   ]
  },
  {
   "cell_type": "code",
   "execution_count": null,
   "id": "5757fdcd",
   "metadata": {},
   "outputs": [],
   "source": [
    "results = conn.gsql('''\n",
    "CREATE VERTEX Address(PRIMARY_ID address_id STRING, name STRING, lat DOUBLE, lon DOUBLE) WITH primary_id_as_attribute=\"true\"\n",
    "CREATE VERTEX City(PRIMARY_ID city_id STRING, cityName STRING) WITH primary_id_as_attribute=\"true\"\n",
    "CREATE VERTEX State(PRIMARY_ID state_id STRING) WITH primary_id_as_attribute=\"true\"\n",
    "CREATE VERTEX County(PRIMARY_ID county_id STRING, countyName STRING) WITH primary_id_as_attribute=\"true\"\n",
    "CREATE VERTEX ZipCode(PRIMARY_ID zip_id STRING) WITH primary_id_as_attribute=\"true\"\n",
    "''')\n",
    "print(results)"
   ]
  },
  {
   "cell_type": "code",
   "execution_count": null,
   "id": "991e6ce1",
   "metadata": {},
   "outputs": [],
   "source": [
    "results = conn.gsql('''\n",
    "CREATE VERTEX Encounter(PRIMARY_ID encounter_id STRING, baseEncounterCost DOUBLE, totalClaimCost DOUBLE,\n",
    "                        payerCoverage DOUBLE, classType STRING, startTime DATETIME, endTime DATETIMe) WITH primary_id_as_attribute=\"true\"\n",
    "CREATE VERTEX Notes(PRIMARY_ID note_id STRING, chiefComplaint STRING, historyOfPresentIllness STRING,\n",
    "                        socialHistory STRING, allergies STRING, medications STRING, assessment STRING, plan STRING) with primary_id_as_attribute=\"true\"\n",
    "CREATE VERTEX Symptoms(PRIMARY_ID symptom_id STRING, symptom STRING, symptomValue DOUBLE, pathology STRING) with primary_id_as_attribute=\"true\"\n",
    "CREATE VERTEX Medication(PRIMARY_ID medication_id STRING, medication_code STRING, description STRING,\n",
    "                        startDate DATETIME, endDate DATETIME, baseCost DOUBLE, payerCoverage DOUBLE, dispenses INT, totalCost DOUBLE) WITH primary_id_as_attribute=\"true\"\n",
    "CREATE VERTEX Procedures(PRIMARY_ID procedure_id STRING, procedure_code STRING, description STRING, baseCost DOUBLE, dateOfProcedure DaTETIME) WITH primary_id_as_attribute=\"true\"\n",
    "CREATE VERTEX Observations(PRIMARY_ID observation_id STRING, dateOfObservation DATETIME, observation_code STRING,\n",
    "                        description STRING, obsValue STRING, units STRING) WITH primary_id_as_attribute=\"true\"\n",
    "CREATE VERTEX ImagingStudies(PRIMARY_ID imaging_id STRING, bodySiteCode STRING, bodySiteDescription STRING,\n",
    "                        modalityCode STRING, modalityDescription STRING, SOPCode STRING, SOPDescription STRING, dateOfImage DATETIME) WITH primary_id_as_attribute=\"true\"\n",
    "CREATE VERTEX SnomedCode(PRIMARY_ID snomed_code STRING, description STRING) WITH primary_id_as_attribute=\"true\"\n",
    "''')\n",
    "print(results)"
   ]
  },
  {
   "cell_type": "code",
   "execution_count": null,
   "id": "c1e06be3",
   "metadata": {},
   "outputs": [],
   "source": [
    "results = conn.gsql('''\n",
    "CREATE VERTEX Conditions(PRIMARY_ID condition_id STRING, condition_code STRING, description STRING, startDate DATETIME, endDate DATETIME) WITH primary_id_as_attribute=\"true\"\n",
    "CREATE VERTEX Organizations(PRIMARY_ID organization_id STRING, name STRING, revenue DOUBLE, utilization INT, phone STRING) WITH primary_id_as_attribute=\"true\"\n",
    "CREATE VERTEX Providers(PRIMARY_ID provider_id STRING, name STRING, utilization INT, speciality STRING) WITH primary_id_as_attribute=\"true\"\n",
    "CREATE VERTEX Attribute(PRIMARY_ID label STRING, attributeValue INT) WITH primary_id_as_attribute=\"true\"\n",
    "CREATE VERTEX Device(PRIMARY_ID UDI_code STRING, description STRING, startDate DATETIME, endDate DATETIME) WITH primary_id_as_attribute=\"true\"\n",
    "CREATE VERTEX Careplans(PRIMARY_ID careplan_id STRING, description STRING, startDate DATETIME, endDate DATETIME) WITH primary_id_as_attribute=\"true\"\n",
    "CREATE VERTEX Payer(PRIMARY_ID payer_id STRING, name STRING, phone STRING, amountCovered DOUBLE, amountUncovered DOUBLE, revenue DOUBLE,\n",
    "                    coveredEncounters INT, uncoveredEncounters INT, coveredMedications INT, uncoveredMedications INT,\n",
    "                    coveredProcedures INT, uncoveredProcedures INT, coveredImmunizations INT, uncoveredImmunizations INT,\n",
    "                    uniqueCustomers INT, QOLS_Avg DOUBLE, memberMonths INT) WITH primary_id_as_attribute=\"true\"\n",
    "''')\n",
    "print(results)"
   ]
  },
  {
   "cell_type": "code",
   "execution_count": null,
   "id": "7ffa9a81",
   "metadata": {},
   "outputs": [],
   "source": [
    "results = conn.gsql('''\n",
    "CREATE UNDIRECTED EDGE PATIENT_HAS_ATTRIBUTE(FROM Patient, TO Attribute)\n",
    "CREATE UNDIRECTED EDGE PATIENT_HAS_SYMPTOM(FROM Patient, TO Symptoms, ageBegin INT, ageEnd INT)\n",
    "CREATE UNDIRECTED EDGE PATIENT_NOTE(FROM Patient, TO Notes, dateOfNote DATETIME)\n",
    "CREATE UNDIRECTED EDGE PATIENT_GENDER(FROM Patient, TO Gender)\n",
    "CREATE UNDIRECTED EDGE PATIENT_ADDRESS(FROM Patient, TO Address)\n",
    "CREATE UNDIRECTED EDGE PATIENT_RACE(FROM Patient, TO Race)\n",
    "CREATE UNDIRECTED EDGE PATIENT_ETHNICITY(FROM Patient, TO Ethnicity)\n",
    "CREATE UNDIRECTED EDGE PATIENT_HAS_ALLERGY(FROM Allergies, TO Patient)\n",
    "CREATE UNDIRECTED EDGE PATIENT_HAS_DEVICE(FROM Device, TO Patient)\n",
    "CREATE UNDIRECTED EDGE PATIENT_HAS_MEDICATION(FROM Medication, TO Patient)\n",
    "CREATE UNDIRECTED EDGE PATIENT_HAS_CAREPLAN(FROM Careplans, TO Patient)\n",
    "CREATE UNDIRECTED EDGE PATIENT_HAS_CONDITION(FROM Conditions, TO Patient)\n",
    "CREATE UNDIRECTED EDGE PATIENT_HAS_IMMUNIZATION(FROM Immunizations, TO Patient)\n",
    "CREATE UNDIRECTED EDGE PATIENT_HAS_IMAGING(FROM ImagingStudies, TO Patient)\n",
    "CREATE UNDIRECTED EDGE PATIENT_HAS_PROCEDURE(FROM Procedures, TO Patient)\n",
    "''')\n",
    "print(results)"
   ]
  },
  {
   "cell_type": "code",
   "execution_count": null,
   "id": "65567a64",
   "metadata": {},
   "outputs": [],
   "source": []
  },
  {
   "cell_type": "code",
   "execution_count": null,
   "id": "a95df93c",
   "metadata": {},
   "outputs": [],
   "source": [
    "results = conn.gsql('''\n",
    "CREATE UNDIRECTED EDGE MEDICATION_PAYER(FROM Medication, TO Payer)\n",
    "CREATE UNDIRECTED EDGE ENCOUNTER_FOR_MEDICATION(FROM Medication, TO Encounter)\n",
    "CREATE UNDIRECTED EDGE MEDICATION_REASON_CODE(FROM Medication, TO SnomedCode)\n",
    "CREATE UNDIRECTED EDGE MEDICATION_CODE(FROM Medication, TO SnomedCode)\n",
    "''')\n",
    "print(results)"
   ]
  },
  {
   "cell_type": "code",
   "execution_count": null,
   "id": "78517ad5",
   "metadata": {},
   "outputs": [],
   "source": [
    "results = conn.gsql('''\n",
    "CREATE UNDIRECTED EDGE ADDRESS_CITY(FROM Address, TO City)\n",
    "CREATE UNDIRECTED EDGE ADDRESS_COUNTY(FROM Address, TO County)\n",
    "CREATE UNDIRECTED EDGE ADDRESS_ZIPCODE(FROM Address, TO ZipCode)\n",
    "CREATE UNDIRECTED EDGE STATE_HAS_COUNTY(FROM State, TO County)\n",
    "CREATE UNDIRECTED EDGE COUNTY_HAS_CITY(FROM County, TO City)\n",
    "CREATE UNDIRECTED EDGE CITY_HAS_ZIPCODE(FROM City, TO ZipCode)\n",
    "''')\n",
    "print(results)"
   ]
  },
  {
   "cell_type": "code",
   "execution_count": null,
   "id": "316cf39a",
   "metadata": {},
   "outputs": [],
   "source": [
    "results = conn.gsql('''\n",
    "CREATE UNDIRECTED EDGE ENCOUNTER_FOR_ALLERGY(FROM Allergies, TO Encounter)\n",
    "CREATE UNDIRECTED EDGE ENCOUNTER_FOR_DEVICE(FROM Device, TO Encounter)\n",
    "CREATE UNDIRECTED EDGE ENCOUNTER_FOR_PROCEDURE(FROM Procedures, TO Encounter)\n",
    "CREATE UNDIRECTED EDGE ENCOUNTER_FOR_CAREPLAN(FROM Careplans, TO Encounter)\n",
    "CREATE UNDIRECTED EDGE ENCOUNTER_FOR_CONDITION(FROM Conditions, TO Encounter)\n",
    "CREATE UNDIRECTED EDGE ENCOUNTER_FOR_IMMUNIZATION(FROM Immunizations, TO Encounter)\n",
    "CREATE UNDIRECTED EDGE ENCOUNTER_FOR_OBSERVATION(FROM Observations, TO Encounter)\n",
    "CREATE UNDIRECTED EDGE ENCOUNTER_FOR_IMAGING(FROM ImagingStudies, TO Encounter)\n",
    "CREATE UNDIRECTED EDGE ENCOUNTER_FOR_PATIENT(FROM Encounter, TO Patient)\n",
    "CREATE UNDIRECTED EDGE ENCOUNTER_UNDER_ORGANIZATION(FROM Encounter, TO Organizations)\n",
    "CREATE UNDIRECTED EDGE ENCOUNTER_HAS_PROVIDER(FROM Encounter, TO Providers)\n",
    "CREATE UNDIRECTED EDGE ENCOUNTER_HAS_PAYER(FROM Encounter, TO Payer)\n",
    "CREATE UNDIRECTED EDGE ENCOUNTER_CODE(FROM Encounter, TO SnomedCode)\n",
    "CREATE UNDIRECTED EDGE ENCOUNTER_REASON_CODE(FROM Encounter, TO SnomedCode)\n",
    "''')\n",
    "print(results)"
   ]
  },
  {
   "cell_type": "code",
   "execution_count": null,
   "id": "c00b0993",
   "metadata": {},
   "outputs": [],
   "source": [
    "results = conn.gsql('''\n",
    "CREATE UNDIRECTED EDGE PROVIDER_HAS_ORGANIZATION(FROM Providers, TO Organizations)\n",
    "CREATE UNDIRECTED EDGE PROVIDER_GENDER(FROM Providers, TO Gender)\n",
    "CREATE UNDIRECTED EDGE PROVIDER_ADDRESS(FROM Providers, TO Address)\n",
    "CREATE UNDIRECTED EDGE PAYER_TRANSITION(FROM Payer, TO Patient, startYear DATETIME, endYear DATETIME, ownership STRING)\n",
    "CREATE UNDIRECTED EDGE PAYER_ADDRESS(FROM Payer, TO Address)\n",
    "''')\n",
    "print(results)"
   ]
  },
  {
   "cell_type": "code",
   "execution_count": null,
   "id": "d2cfc3c6",
   "metadata": {},
   "outputs": [],
   "source": [
    "results = conn.gsql('''\n",
    "CREATE UNDIRECTED EDGE ALLERGY_CODE(FROM Allergies, TO SnomedCode)\n",
    "CREATE UNDIRECTED EDGE DEVICE_CODE(FROM Device, TO SnomedCode)\n",
    "CREATE UNDIRECTED EDGE PROCEDURE_CODE(FROM Procedures, TO SnomedCode)\n",
    "CREATE UNDIRECTED EDGE PROCEDURE_REASON_CODE(FROM Procedures, TO SnomedCode)\n",
    "CREATE UNDIRECTED EDGE CAREPLAN_CODE(FROM Careplans, TO SnomedCode)\n",
    "CREATE UNDIRECTED EDGE CAREPLAN_REASON_CODE(FROM Careplans, TO SnomedCode)\n",
    "CREATE UNDIRECTED EDGE CONDITION_CODE(FROM Conditions, TO SnomedCode)\n",
    "CREATE UNDIRECTED EDGE IMMUNIZATION_CODE(FROM Immunizations, TO SnomedCode)\n",
    "CREATE UNDIRECTED EDGE OBSERVATION_FOR_PATIENT(FROM Observations, TO Patient)\n",
    "CREATE UNDIRECTED EDGE OBSERVATION_CODE(FROM Observations, TO SnomedCode)\n",
    "CREATE UNDIRECTED EDGE ORGANIZATION_ADDRESS(FROM Organizations, TO Address)\n",
    "CREATE UNDIRECTED EDGE IMAGING_CODE(FROM ImagingStudies, TO SnomedCode)\n",
    "''')\n",
    "print(results)"
   ]
  },
  {
   "cell_type": "code",
   "execution_count": 6,
   "id": "d3b76e9e",
   "metadata": {},
   "outputs": [
    {
     "name": "stdout",
     "output_type": "stream",
     "text": [
      "The graph MedGraph is created.\n"
     ]
    }
   ],
   "source": [
    "results = conn.gsql('''\n",
    "CREATE GRAPH MedGraph(Gender, Race, Ethnicity, Address, City, State, County, ZipCode, SnomedCode, Patient, Allergies, Device, Medication, Procedures,\n",
    "  Careplans, Conditions, Immunizations, Observations, Organizations, Providers, ImagingStudies, Payer, Encounter, Notes, Symptoms, Attribute, PATIENT_HAS_ATTRIBUTE,\n",
    "  PATIENT_HAS_SYMPTOM, PATIENT_NOTE, ADDRESS_CITY, ADDRESS_COUNTY, ADDRESS_ZIPCODE, STATE_HAS_COUNTY, COUNTY_HAS_CITY, CITY_HAS_ZIPCODE, PATIENT_GENDER,\n",
    "  PATIENT_ADDRESS, PATIENT_RACE, PATIENT_ETHNICITY, PATIENT_HAS_ALLERGY, ENCOUNTER_FOR_ALLERGY, ALLERGY_CODE,\n",
    "  PATIENT_HAS_DEVICE, ENCOUNTER_FOR_DEVICE, DEVICE_CODE, PATIENT_HAS_MEDICATION, MEDICATION_PAYER, ENCOUNTER_FOR_MEDICATION,\n",
    "  MEDICATION_REASON_CODE, MEDICATION_CODE, PROCEDURE_CODE, PROCEDURE_REASON_CODE, PATIENT_HAS_PROCEDURE, ENCOUNTER_FOR_PROCEDURE,\n",
    "  PATIENT_HAS_CAREPLAN, ENCOUNTER_FOR_CAREPLAN, CAREPLAN_CODE, CAREPLAN_REASON_CODE, PATIENT_HAS_CONDITION, ENCOUNTER_FOR_CONDITION,\n",
    "  CONDITION_CODE, PATIENT_HAS_IMMUNIZATION, ENCOUNTER_FOR_IMMUNIZATION, IMMUNIZATION_CODE, OBSERVATION_FOR_PATIENT, ENCOUNTER_FOR_OBSERVATION,\n",
    "  OBSERVATION_CODE, ORGANIZATION_ADDRESS, PROVIDER_HAS_ORGANIZATION, PROVIDER_GENDER, PROVIDER_ADDRESS, PATIENT_HAS_IMAGING, ENCOUNTER_FOR_IMAGING,\n",
    "  IMAGING_CODE, PAYER_TRANSITION, PAYER_ADDRESS, ENCOUNTER_FOR_PATIENT, ENCOUNTER_UNDER_ORGANIZATION, ENCOUNTER_HAS_PROVIDER, ENCOUNTER_HAS_PAYER,\n",
    "  ENCOUNTER_CODE, ENCOUNTER_REASON_CODE)\n",
    "''')\n",
    "print(results)"
   ]
  },
  {
   "cell_type": "code",
   "execution_count": 7,
   "id": "f8947c71",
   "metadata": {},
   "outputs": [],
   "source": [
    "graphName = \"MedGraph\"\n",
    "conn.graphname = graphName\n",
    "# secret = conn.createSecret()\n",
    "# # token = conn.getToken(secret, setToken=False)\n",
    "# print(token[0])"
   ]
  },
  {
   "cell_type": "code",
   "execution_count": null,
   "id": "c88a73f5",
   "metadata": {},
   "outputs": [],
   "source": [
    "!git clone https://github.com/TigerGraph-DevLabs/Synthea-Medgraph.git"
   ]
  },
  {
   "cell_type": "code",
   "execution_count": null,
   "id": "9f6cce5f",
   "metadata": {},
   "outputs": [],
   "source": [
    "!head '/content/Synthea-Medgraph/data/allergies copy.csv.header'\n",
    "!head -n 3 '/content/Synthea-Medgraph/data/allergies copy.csv'"
   ]
  },
  {
   "cell_type": "code",
   "execution_count": 8,
   "id": "b03aed16",
   "metadata": {},
   "outputs": [
    {
     "name": "stdout",
     "output_type": "stream",
     "text": [
      "Using graph 'MedGraph'\n",
      "Restpp refresh failed.\n",
      "Please check the status of the services and restart restpp.\n",
      "Successfully created loading jobs: [loadAllergies].\n"
     ]
    }
   ],
   "source": [
    "results = conn.gsql('''\n",
    "USE GRAPH MedGraph\n",
    "BEGIN\n",
    "CREATE LOADING JOB loadAllergies FOR GRAPH MedGraph {\n",
    "    DEFINE filename f1;\n",
    "    LOAD f1\n",
    "        TO VERTEX Allergies VALUES ($0, $5, $6, $1, $2),\n",
    "        TO VERTEX SnomedCode VALUES ($5, $6),\n",
    "        TO EDGE PATIENT_HAS_ALLERGY VALUES ($0, $3),\n",
    "        TO EDGE ALLERGY_CODE VALUES ($0, $5),\n",
    "        TO EDGE ENCOUNTER_FOR_ALLERGY VALUES ($0, $4)\n",
    "        USING header=\"true\", separator=\",\";\n",
    "    }\n",
    "END\n",
    "''')\n",
    "print(results)"
   ]
  },
  {
   "cell_type": "code",
   "execution_count": 9,
   "id": "7fa33109",
   "metadata": {},
   "outputs": [
    {
     "name": "stdout",
     "output_type": "stream",
     "text": [
      "Using graph 'MedGraph'\n",
      "Restpp refresh failed.\n",
      "Please check the status of the services and restart restpp.\n",
      "Successfully created loading jobs: [loadAttributes].\n"
     ]
    }
   ],
   "source": [
    "results = conn.gsql('''\n",
    "USE GRAPH MedGraph\n",
    "BEGIN\n",
    "CREATE LOADING JOB loadAttributes FOR GRAPH MedGraph {\n",
    "    DEFINE filename f1;\n",
    "    LOAD f1\n",
    "        TO VERTEX Attribute values($1, $2),\n",
    "        TO EDGE PATIENT_HAS_ATTRIBUTE values($0, $1)\n",
    "        USING header=\"true\", separator=\",\";\n",
    "}\n",
    "END\n",
    "''')\n",
    "print(results)"
   ]
  },
  {
   "cell_type": "code",
   "execution_count": 10,
   "id": "dd4e74f4",
   "metadata": {},
   "outputs": [],
   "source": [
    "# conn.gsql('''\n",
    "# DROP ALL\n",
    "# ''')"
   ]
  },
  {
   "cell_type": "code",
   "execution_count": 11,
   "id": "e471e710",
   "metadata": {},
   "outputs": [
    {
     "name": "stdout",
     "output_type": "stream",
     "text": [
      "Using graph 'MedGraph'\n",
      "Restpp refresh failed.\n",
      "Please check the status of the services and restart restpp.\n",
      "Successfully created loading jobs: [loadCareplans].\n"
     ]
    }
   ],
   "source": [
    "results = conn.gsql('''\n",
    "USE GRAPH MedGraph\n",
    "BEGIN\n",
    "CREATE LOADING JOB loadCareplans FOR GRAPH MedGraph {\n",
    "    DEFINE filename f1;\n",
    "    LOAD f1\n",
    "        TO VERTEX Careplans values ($0, $6, $1, $2),\n",
    "        TO VERTEX SnomedCode values ($5, $6),\n",
    "        TO VERTEX SnomedCode values ($7, $8),\n",
    "        TO EDGE PATIENT_HAS_CAREPLAN values ($0, $3),\n",
    "        TO EDGE ENCOUNTER_FOR_CAREPLAN values ($0, $4),\n",
    "        TO EDGE CAREPLAN_CODE values ($0, $5),\n",
    "        TO EDGE CAREPLAN_REASON_CODE values ($0, $7)\n",
    "        USING header=\"true\", separator=\",\";\n",
    "    }\n",
    "END\n",
    "''')\n",
    "print(results)"
   ]
  },
  {
   "cell_type": "code",
   "execution_count": 12,
   "id": "c1488f42",
   "metadata": {},
   "outputs": [
    {
     "name": "stdout",
     "output_type": "stream",
     "text": [
      "Using graph 'MedGraph'\n",
      "Restpp refresh failed.\n",
      "Please check the status of the services and restart restpp.\n",
      "Successfully created loading jobs: [loadConditions].\n"
     ]
    }
   ],
   "source": [
    "results = conn.gsql('''\n",
    "USE GRAPH MedGraph\n",
    "BEGIN\n",
    "CREATE LOADING JOB loadConditions FOR GRAPH MedGraph {\n",
    "    DEFINE filename f1;\n",
    "    LOAD f1\n",
    "        TO VERTEX Conditions values ($0, $5, $6, $1, $2),\n",
    "        TO VERTEX SnomedCode values ($5, $6),\n",
    "        TO EDGE CONDITION_CODE values ($0, $5),\n",
    "        TO EDGE PATIENT_HAS_CONDITION values ($0, $3),\n",
    "        TO EDGE ENCOUNTER_FOR_CONDITION values ($0, $4)\n",
    "        USING header=\"true\", separator=\",\";\n",
    "}\n",
    "END\n",
    "''')\n",
    "print(results)"
   ]
  },
  {
   "cell_type": "code",
   "execution_count": 13,
   "id": "6f9baebd",
   "metadata": {},
   "outputs": [
    {
     "name": "stdout",
     "output_type": "stream",
     "text": [
      "Using graph 'MedGraph'\n",
      "Restpp refresh failed.\n",
      "Please check the status of the services and restart restpp.\n",
      "Successfully created loading jobs: [loadDevices].\n"
     ]
    }
   ],
   "source": [
    "results = conn.gsql('''\n",
    "USE GRAPH MedGraph\n",
    "BEGIN\n",
    "CREATE LOADING JOB loadDevices FOR GRAPH MedGraph {\n",
    "    DEFINE filename f1;\n",
    "    LOAD f1\n",
    "        TO VERTEX Device values ($6, $5, $0, $1),\n",
    "        TO VERTEX SnomedCode values ($4, $5),\n",
    "        TO EDGE PATIENT_HAS_DEVICE values ($6, $2),\n",
    "        TO EDGE DEVICE_CODE values ($6, $4),\n",
    "        TO EDGE ENCOUNTER_FOR_DEVICE values ($6, $3)\n",
    "        USING header=\"true\", separator=\",\";\n",
    "}\n",
    "END\n",
    "''')\n",
    "print(results)"
   ]
  },
  {
   "cell_type": "code",
   "execution_count": 14,
   "id": "44bcf893",
   "metadata": {},
   "outputs": [
    {
     "name": "stdout",
     "output_type": "stream",
     "text": [
      "Using graph 'MedGraph'\n",
      "Restpp refresh failed.\n",
      "Please check the status of the services and restart restpp.\n",
      "Successfully created loading jobs: [loadEncounters].\n"
     ]
    }
   ],
   "source": [
    "results = conn.gsql('''\n",
    "USE GRAPH MedGraph\n",
    "BEGIN\n",
    "CREATE LOADING JOB loadEncounters FOR GRAPH MedGraph {\n",
    "    DEFINE filename f1;\n",
    "    LOAD f1\n",
    "        TO VERTEX Encounter values ($0, $10, $11, $12, $7, $1, $2),\n",
    "        TO VERTEX SnomedCode Values ($8, $9),\n",
    "        TO VERTEX SnomedCode values ($13, $14),\n",
    "        TO EDGE ENCOUNTER_FOR_PATIENT values ($0, $3),\n",
    "        TO EDGE ENCOUNTER_UNDER_ORGANIZATION values ($0, $4),\n",
    "        TO EDGE ENCOUNTER_HAS_PAYER values ($0, $6),\n",
    "        TO EDGE ENCOUNTER_HAS_PROVIDER values ($0, $5),\n",
    "        TO EDGE ENCOUNTER_CODE values ($0, $8),\n",
    "        TO EDGE ENCOUNTER_REASON_CODE values ($0, $13)\n",
    "        USING header=\"true\", separator=\",\";\n",
    "}\n",
    "END\n",
    "''')\n",
    "print(results)"
   ]
  },
  {
   "cell_type": "code",
   "execution_count": 15,
   "id": "d54d22e7",
   "metadata": {},
   "outputs": [
    {
     "name": "stdout",
     "output_type": "stream",
     "text": [
      "Using graph 'MedGraph'\n",
      "Restpp refresh failed.\n",
      "Please check the status of the services and restart restpp.\n",
      "Successfully created loading jobs: [loadImaging].\n"
     ]
    }
   ],
   "source": [
    "results = conn.gsql('''\n",
    "USE GRAPH MedGraph\n",
    "BEGIN\n",
    "CREATE LOADING JOB loadImaging FOR GRAPH MedGraph {\n",
    "    DEFINE filename f1;\n",
    "    LOAD f1\n",
    "        TO VERTEX ImagingStudies values ($0, $4, $5, $6, $7, $8, $9, $1),\n",
    "        TO VERTEX SnomedCode values ($4, $5),\n",
    "        TO EDGE PATIENT_HAS_IMAGING values ($0, $2),\n",
    "        TO EDGE ENCOUNTER_FOR_IMAGING values ($0, $3),\n",
    "        TO EDGE IMAGING_CODE values ($0, $4)\n",
    "        USING header=\"true\", separator=\",\";\n",
    "}\n",
    "END\n",
    "''')\n",
    "print(results)"
   ]
  },
  {
   "cell_type": "code",
   "execution_count": 16,
   "id": "27d08c6b",
   "metadata": {},
   "outputs": [
    {
     "name": "stdout",
     "output_type": "stream",
     "text": [
      "Using graph 'MedGraph'\n",
      "Restpp refresh failed.\n",
      "Please check the status of the services and restart restpp.\n",
      "Successfully created loading jobs: [loadImmunizations].\n"
     ]
    }
   ],
   "source": [
    "results = conn.gsql('''\n",
    "USE GRAPH MedGraph\n",
    "BEGIN\n",
    "CREATE LOADING JOB loadImmunizations for graph MedGraph {\n",
    "    DEFINE filename f1;\n",
    "    LOAD f1\n",
    "        TO VERTEX Immunizations values ($0, $4, $5, $1, $6),\n",
    "        TO VERTEX SnomedCode values ($4, $5),\n",
    "        TO EDGE IMMUNIZATION_CODE values ($0, $4),\n",
    "        TO EDGE PATIENT_HAS_IMMUNIZATION values ($0, $2),\n",
    "        TO EDGE ENCOUNTER_FOR_IMMUNIZATION values ($0, $3)\n",
    "        USING header=\"true\", separator=\",\";\n",
    "}\n",
    "END\n",
    "''')\n",
    "print(results)"
   ]
  },
  {
   "cell_type": "code",
   "execution_count": 17,
   "id": "c67b9f2b",
   "metadata": {},
   "outputs": [
    {
     "name": "stdout",
     "output_type": "stream",
     "text": [
      "Using graph 'MedGraph'\n",
      "Restpp refresh failed.\n",
      "Please check the status of the services and restart restpp.\n",
      "Successfully created loading jobs: [loadLocations].\n"
     ]
    }
   ],
   "source": [
    "results = conn.gsql('''\n",
    "USE GRAPH MedGraph\n",
    "BEGIN\n",
    "CREATE LOADING JOB loadLocations FOR GRAPH MedGraph {\n",
    "    DEFINE filename f1;\n",
    "    LOAD f1\n",
    "        TO VERTEX State values ($3),\n",
    "        TO VERTEX County values (gsql_concat($3, $5), $5),\n",
    "        TO VERTEX City values (gsql_concat($3, $2), $2),\n",
    "        TO EDGE STATE_HAS_COUNTY values ($3, gsql_concat($3, $5)),\n",
    "        TO EDGE COUNTY_HAS_CITY values (gsql_concat($3, $5), gsql_concat($3, $2))\n",
    "        USING header=\"true\", separator=\",\";\n",
    "}\n",
    "END\n",
    "''')\n",
    "print(results)"
   ]
  },
  {
   "cell_type": "code",
   "execution_count": 18,
   "id": "2d4f5bf2",
   "metadata": {},
   "outputs": [
    {
     "name": "stdout",
     "output_type": "stream",
     "text": [
      "Using graph 'MedGraph'\n",
      "Restpp refresh failed.\n",
      "Please check the status of the services and restart restpp.\n",
      "Successfully created loading jobs: [loadMedications].\n"
     ]
    }
   ],
   "source": [
    "results = conn.gsql('''\n",
    "USE GRAPH MedGraph\n",
    "BEGIN\n",
    "CREATE LOADING JOB loadMedications FOR GRAPH MedGraph {\n",
    "    DEFINE filename f1;\n",
    "    LOAD f1\n",
    "        TO VERTEX Medication values ($0, $6, $7, $1, $2, $8, $9, $10, $11),\n",
    "        TO VERTEX SnomedCode values ($6, $7),\n",
    "        TO VERTEX SnomedCode values ($12, $13),\n",
    "        TO EDGE MEDICATION_PAYER values ($0, $4),\n",
    "        TO EDGE PATIENT_HAS_MEDICATION values ($0, $3),\n",
    "        TO EDGE MEDICATION_REASON_CODE values ($0, $12),\n",
    "        TO EDGE MEDICATION_CODE values ($0, $6),\n",
    "        TO EDGE ENCOUNTER_FOR_MEDICATION values ($0, $5)\n",
    "        USING HEADER=\"true\", separator=\",\";\n",
    "}\n",
    "END\n",
    "''')\n",
    "print(results)"
   ]
  },
  {
   "cell_type": "code",
   "execution_count": 19,
   "id": "9ebff8c3",
   "metadata": {},
   "outputs": [
    {
     "name": "stdout",
     "output_type": "stream",
     "text": [
      "Using graph 'MedGraph'\n",
      "Restpp refresh failed.\n",
      "Please check the status of the services and restart restpp.\n",
      "Successfully created loading jobs: [loadObservations].\n"
     ]
    }
   ],
   "source": [
    "results = conn.gsql('''\n",
    "USE GRAPH MedGraph\n",
    "BEGIN\n",
    "CREATE LOADING JOB loadObservations FOR GRAPH MedGraph {\n",
    "    DEFINE filename f1;\n",
    "    LOAD f1\n",
    "        TO VERTEX Observations values($0, $1, $4, $5, $6, $7),\n",
    "        TO VERTEX SnomedCode values($4, $5),\n",
    "        TO EDGE OBSERVATION_FOR_PATIENT values($0, $2),\n",
    "        TO EDGE ENCOUNTER_FOR_OBSERVATION values($0, $3),\n",
    "        TO EDGE OBSERVATION_CODE values($0, $4)\n",
    "        USING header=\"true\", separator=\",\";\n",
    "}\n",
    "END\n",
    "''')\n",
    "print(results)"
   ]
  },
  {
   "cell_type": "code",
   "execution_count": 20,
   "id": "fbf8148b",
   "metadata": {},
   "outputs": [
    {
     "name": "stdout",
     "output_type": "stream",
     "text": [
      "Using graph 'MedGraph'\n",
      "Restpp refresh failed.\n",
      "Please check the status of the services and restart restpp.\n",
      "Successfully created loading jobs: [loadOrganizations].\n"
     ]
    }
   ],
   "source": [
    "results = conn.gsql('''\n",
    "USE GRAPH MedGraph\n",
    "BEGIN\n",
    "CREATE LOADING JOB loadOrganizations FOR GRAPH MedGraph {\n",
    "    DEFINE filename f1;\n",
    "    LOAD f1\n",
    "        TO VERTEX Organizations values ($0, $1, $9, $10, $8),\n",
    "        TO VERTEX Address values (gsql_concat($6, $7), $2, $6, $7),\n",
    "        TO EDGE ADDRESS_CITY values (gsql_concat($6, $7), $3),\n",
    "        TO EDGE ADDRESS_ZIPCODE values (gsql_concat($6, $7), $5),\n",
    "        TO EDGE ADDRESS_COUNTY values (gsql_concat($6, $7), $11),\n",
    "        TO EDGE ORGANIZATION_ADDRESS values ($0, gsql_concat($6, $7))\n",
    "        USING header=\"true\", separator=\",\";\n",
    "}\n",
    "END\n",
    "''')\n",
    "print(results)"
   ]
  },
  {
   "cell_type": "code",
   "execution_count": 21,
   "id": "2a193596",
   "metadata": {},
   "outputs": [
    {
     "name": "stdout",
     "output_type": "stream",
     "text": [
      "Using graph 'MedGraph'\n",
      "Restpp refresh failed.\n",
      "Please check the status of the services and restart restpp.\n",
      "Successfully created loading jobs: [loadPatient].\n"
     ]
    }
   ],
   "source": [
    "results = conn.gsql('''\n",
    "USE GRAPH MedGraph\n",
    "BEGIN\n",
    "CREATE LOADING JOB loadPatient FOR GRAPH MedGraph{\n",
    "    DEFINE filename f1;\n",
    "    LOAD f1\n",
    "        TO VERTEX Patient values ($0, $8, $7, $10, $1, $3, $4, $5, $23, $24, $9, $6, $11, $15),\n",
    "        TO VERTEX Gender values ($14),\n",
    "        TO VERTEX Race values ($12),\n",
    "        TO VERTEX Ethnicity values ($13),\n",
    "        TO VERTEX Address values (gsql_concat($21, $22), $16, $21, $22),\n",
    "        TO EDGE PATIENT_GENDER values ($0, $14),\n",
    "        TO EDGE PATIENT_RACE values ($0, $12),\n",
    "        TO EDGE PATIENT_ETHNICITY values ($0, $13),\n",
    "        TO EDGE PATIENT_ADDRESS values ($0, gsql_concat($21, $22)),\n",
    "        TO EDGE ADDRESS_COUNTY values (gsql_concat($21, $22), $19),\n",
    "        TO EDGE ADDRESS_ZIPCODE values (gsql_concat($21, $22), $20),\n",
    "        TO EDGE ADDRESS_CITY values (gsql_concat($21, $22), $17)\n",
    "        USING header=\"true\", separator=\",\";\n",
    "}\n",
    "END\n",
    "''')\n",
    "print(results)"
   ]
  },
  {
   "cell_type": "code",
   "execution_count": 22,
   "id": "5a49e535",
   "metadata": {},
   "outputs": [
    {
     "name": "stdout",
     "output_type": "stream",
     "text": [
      "Using graph 'MedGraph'\n",
      "Restpp refresh failed.\n",
      "Please check the status of the services and restart restpp.\n",
      "Successfully created loading jobs: [loadPatientNotes].\n"
     ]
    }
   ],
   "source": [
    "results = conn.gsql('''\n",
    "USE GRAPH MedGraph\n",
    "BEGIN\n",
    "CREATE LOADING JOB loadPatientNotes FOR GRAPH MedGraph {\n",
    "    DEFINE filename f1;\n",
    "    LOAD f1\n",
    "        TO VERTEX Notes values ($0, $3, $4, $5, $6, $7, $8, $9),\n",
    "        TO EDGE PATIENT_NOTE values($1, $0, $2)\n",
    "        USING header=\"true\", separator=\",\";\n",
    "}\n",
    "END\n",
    "''')\n",
    "print(results)"
   ]
  },
  {
   "cell_type": "code",
   "execution_count": 23,
   "id": "05065d81",
   "metadata": {},
   "outputs": [
    {
     "name": "stdout",
     "output_type": "stream",
     "text": [
      "Using graph 'MedGraph'\n",
      "Restpp refresh failed.\n",
      "Please check the status of the services and restart restpp.\n",
      "Successfully created loading jobs: [loadPatientSymptoms].\n"
     ]
    }
   ],
   "source": [
    "results = conn.gsql('''\n",
    "USE GRAPH MedGraph\n",
    "BEGIN\n",
    "CREATE LOADING JOB loadPatientSymptoms FOR GRAPH MedGraph {\n",
    "    DEFINE filename f1;\n",
    "    LOAD f1\n",
    "        TO VERTEX Symptoms values($0, $8, $9, $7),\n",
    "        TO EDGE PATIENT_HAS_SYMPTOM values($1, $0, $5, $6)\n",
    "        USING header=\"true\", separator=\",\";\n",
    "}\n",
    "END\n",
    "''')\n",
    "print(results)"
   ]
  },
  {
   "cell_type": "code",
   "execution_count": 24,
   "id": "ca7a3051",
   "metadata": {},
   "outputs": [
    {
     "name": "stdout",
     "output_type": "stream",
     "text": [
      "Using graph 'MedGraph'\n",
      "Restpp refresh failed.\n",
      "Please check the status of the services and restart restpp.\n",
      "Successfully created loading jobs: [loadPayers].\n"
     ]
    }
   ],
   "source": [
    "results = conn.gsql('''\n",
    "USE GRAPH MedGraph\n",
    "BEGIN\n",
    "CREATE LOADING JOB loadPayers FOR GRAPH MedGraph {\n",
    "    DEFINE filename f1;\n",
    "    LOAD f1\n",
    "        TO VERTEX Payer values (gsql_concat($0, $20), $1, $6, $7, $8, $9, $10, $11, $12, $13, $14, $15, $16, $17, $18, $19, $20),\n",
    "        TO VERTEX Address values (gsql_concat($21, $22), $2, $21, $22),\n",
    "        TO EDGE PAYER_ADDRESS values (gsql_concat($0, $20), gsql_concat($21, $22)),\n",
    "        TO EDGE ADDRESS_CITY values (gsql_concat($21, $22), $3),\n",
    "        TO EDGE ADDRESS_ZIPCODE values (gsql_concat($21, $22), $5),\n",
    "        TO EDGE ADDRESS_COUNTY values (gsql_concat($21, $22), $23)\n",
    "        USING header = \"true\", separator=\",\";\n",
    "}\n",
    "END\n",
    "''')\n",
    "print(results)"
   ]
  },
  {
   "cell_type": "code",
   "execution_count": 25,
   "id": "26b23547",
   "metadata": {},
   "outputs": [
    {
     "name": "stdout",
     "output_type": "stream",
     "text": [
      "Using graph 'MedGraph'\n",
      "Restpp refresh failed.\n",
      "Please check the status of the services and restart restpp.\n",
      "Successfully created loading jobs: [loadPayerTransitions].\n"
     ]
    }
   ],
   "source": [
    "results = conn.gsql('''\n",
    "USE GRAPH MedGraph\n",
    "BEGIN\n",
    "CREATE LOADING JOB loadPayerTransitions FOR GRAPH MedGraph {\n",
    "    DEFINE filename f1;\n",
    "    LOAD f1 \n",
    "        TO EDGE PAYER_TRANSITION values ($3, $0, $1, $2, $4)\n",
    "        USING header=\"true\", separator=\",\";\n",
    "}\n",
    "END\n",
    "''')\n",
    "print(results)"
   ]
  },
  {
   "cell_type": "code",
   "execution_count": 26,
   "id": "1a662008",
   "metadata": {},
   "outputs": [
    {
     "name": "stdout",
     "output_type": "stream",
     "text": [
      "Using graph 'MedGraph'\n",
      "Restpp refresh failed.\n",
      "Please check the status of the services and restart restpp.\n",
      "Successfully created loading jobs: [loadProcedures].\n"
     ]
    }
   ],
   "source": [
    "results = conn.gsql('''\n",
    "USE GRAPH MedGraph\n",
    "BEGIN\n",
    "CREATE LOADING JOB loadProcedures FOR GRAPH MedGraph {\n",
    "    DEFINE filename f1;\n",
    "    LOAD f1\n",
    "        TO VERTEX Procedures values ($0, $4, $5, $6, $7),\n",
    "        TO VERTEX SnomedCode values ($4, $5),\n",
    "        TO VERTEX SnomedCode values ($7, $8),\n",
    "        TO EDGE PROCEDURE_CODE values ($0, $4),\n",
    "        TO EDGE PROCEDURE_REASON_CODE values ($0, $7),\n",
    "        TO EDGE ENCOUNTER_FOR_PROCEDURE values ($0, $3),\n",
    "        TO EDGE PATIENT_HAS_PROCEDURE values ($0, $2)\n",
    "        USING header=\"true\", separator=\",\";\n",
    "}\n",
    "END\n",
    "''')\n",
    "print(results)"
   ]
  },
  {
   "cell_type": "code",
   "execution_count": 27,
   "id": "a1782c2b",
   "metadata": {},
   "outputs": [
    {
     "name": "stdout",
     "output_type": "stream",
     "text": [
      "Using graph 'MedGraph'\n",
      "Restpp refresh failed.\n",
      "Please check the status of the services and restart restpp.\n",
      "Successfully created loading jobs: [loadProviders].\n"
     ]
    }
   ],
   "source": [
    "results = conn.gsql('''\n",
    "USE GRAPH MedGraph\n",
    "BEGIN\n",
    "CREATE LOADING JOB loadProviders FOR GRAPH MedGraph {\n",
    "    DEFINE filename f1;\n",
    "    LOAD f1\n",
    "        TO VERTEX Providers values ($0, $2, $11, $4),\n",
    "        TO VERTEX Address values (gsql_concat($9, $10), $5, $9, $10),\n",
    "        TO EDGE PROVIDER_GENDER values ($0, $3),\n",
    "        TO EDGE ADDRESS_CITY values (gsql_concat($9, $10), $6),\n",
    "        TO EDGE ADDRESS_ZIPCODE values (gsql_concat($9, $10), $8),\n",
    "        TO EDGE ADDRESS_COUNTY values (gsql_concat($9, $10), $12),\n",
    "        TO EDGE PROVIDER_HAS_ORGANIZATION values ($0, $1),\n",
    "        TO EDGE PROVIDER_ADDRESS values ($0, gsql_concat($9, $10))\n",
    "        USING header=\"true\", separator=\",\";\n",
    "    }\n",
    "END\n",
    "''')\n",
    "print(results)"
   ]
  },
  {
   "cell_type": "code",
   "execution_count": 28,
   "id": "16557e70",
   "metadata": {},
   "outputs": [
    {
     "name": "stdout",
     "output_type": "stream",
     "text": [
      "Using graph 'MedGraph'\n",
      "Restpp refresh failed.\n",
      "Please check the status of the services and restart restpp.\n",
      "Successfully created loading jobs: [loadZips].\n"
     ]
    }
   ],
   "source": [
    "results = conn.gsql('''\n",
    "USE GRAPH MedGraph\n",
    "BEGIN\n",
    "CREATE LOADING JOB loadZips FOR GRAPH MedGraph {\n",
    "    DEFINE filename f1;\n",
    "    LOAD f1\n",
    "        TO VERTEX ZipCode values($4),\n",
    "        TO EDGE CITY_HAS_ZIPCODE values (gsql_concat($1, $3), $4)\n",
    "        USING header=\"true\", separator=\",\";\n",
    "}\n",
    "END\n",
    "''')\n",
    "print(results)"
   ]
  },
  {
   "cell_type": "code",
   "execution_count": 29,
   "id": "b0f501de",
   "metadata": {},
   "outputs": [],
   "source": [
    "# results = conn.gsql('''\n",
    "# DROP JOB loadZips\n",
    "# ''')\n",
    "# print(results)"
   ]
  },
  {
   "cell_type": "code",
   "execution_count": 34,
   "id": "e5b48722",
   "metadata": {},
   "outputs": [
    {
     "ename": "HTTPError",
     "evalue": "502 Server Error: Bad Gateway for url: http://localhost:9000/ddl/MedGraph?tag=loadPatient&filename=patients",
     "output_type": "error",
     "traceback": [
      "\u001b[0;31m---------------------------------------------------------------------------\u001b[0m",
      "\u001b[0;31mHTTPError\u001b[0m                                 Traceback (most recent call last)",
      "Cell \u001b[0;32mIn[34], line 2\u001b[0m\n\u001b[1;32m      1\u001b[0m patients_file \u001b[38;5;241m=\u001b[39m \u001b[38;5;124m\"\u001b[39m\u001b[38;5;124m/users/rjanaswa/workspace-inv/Synthea-Medgraph/data/patients.csv\u001b[39m\u001b[38;5;124m\"\u001b[39m\n\u001b[0;32m----> 2\u001b[0m results \u001b[38;5;241m=\u001b[39m \u001b[43mconn\u001b[49m\u001b[38;5;241;43m.\u001b[39;49m\u001b[43mrunLoadingJobWithFile\u001b[49m\u001b[43m(\u001b[49m\u001b[43mpatients_file\u001b[49m\u001b[43m,\u001b[49m\u001b[43m \u001b[49m\u001b[38;5;124;43m\"\u001b[39;49m\u001b[38;5;124;43mpatients\u001b[39;49m\u001b[38;5;124;43m\"\u001b[39;49m\u001b[43m,\u001b[49m\u001b[43m \u001b[49m\u001b[38;5;124;43m\"\u001b[39;49m\u001b[38;5;124;43mloadPatient\u001b[39;49m\u001b[38;5;124;43m\"\u001b[39;49m\u001b[43m)\u001b[49m\n\u001b[1;32m      3\u001b[0m \u001b[38;5;28mprint\u001b[39m(json\u001b[38;5;241m.\u001b[39mdumps(results, indent\u001b[38;5;241m=\u001b[39m\u001b[38;5;241m2\u001b[39m))\n",
      "File \u001b[0;32m~/homebrew/anaconda3/envs/myenv/lib/python3.10/site-packages/pyTigerGraph/pyTigerGraphLoading.py:69\u001b[0m, in \u001b[0;36mpyTigerGraphLoading.runLoadingJobWithFile\u001b[0;34m(self, filePath, fileTag, jobName, sep, eol, timeout, sizeLimit)\u001b[0m\n\u001b[1;32m     66\u001b[0m     \u001b[38;5;28;01mreturn\u001b[39;00m \u001b[38;5;28;01mNone\u001b[39;00m\n\u001b[1;32m     67\u001b[0m     \u001b[38;5;66;03m# TODO Should throw exception instead?\u001b[39;00m\n\u001b[0;32m---> 69\u001b[0m res \u001b[38;5;241m=\u001b[39m \u001b[38;5;28;43mself\u001b[39;49m\u001b[38;5;241;43m.\u001b[39;49m\u001b[43m_post\u001b[49m\u001b[43m(\u001b[49m\u001b[38;5;28;43mself\u001b[39;49m\u001b[38;5;241;43m.\u001b[39;49m\u001b[43mrestppUrl\u001b[49m\u001b[43m \u001b[49m\u001b[38;5;241;43m+\u001b[39;49m\u001b[43m \u001b[49m\u001b[38;5;124;43m\"\u001b[39;49m\u001b[38;5;124;43m/ddl/\u001b[39;49m\u001b[38;5;124;43m\"\u001b[39;49m\u001b[43m \u001b[49m\u001b[38;5;241;43m+\u001b[39;49m\u001b[43m \u001b[49m\u001b[38;5;28;43mself\u001b[39;49m\u001b[38;5;241;43m.\u001b[39;49m\u001b[43mgraphname\u001b[49m\u001b[43m,\u001b[49m\u001b[43m \u001b[49m\u001b[43mparams\u001b[49m\u001b[38;5;241;43m=\u001b[39;49m\u001b[43mparams\u001b[49m\u001b[43m,\u001b[49m\u001b[43m \u001b[49m\u001b[43mdata\u001b[49m\u001b[38;5;241;43m=\u001b[39;49m\u001b[43mdata\u001b[49m\u001b[43m,\u001b[49m\n\u001b[1;32m     70\u001b[0m \u001b[43m    \u001b[49m\u001b[43mheaders\u001b[49m\u001b[38;5;241;43m=\u001b[39;49m\u001b[43m{\u001b[49m\u001b[38;5;124;43m\"\u001b[39;49m\u001b[38;5;124;43mRESPONSE-LIMIT\u001b[39;49m\u001b[38;5;124;43m\"\u001b[39;49m\u001b[43m:\u001b[49m\u001b[43m \u001b[49m\u001b[38;5;28;43mstr\u001b[39;49m\u001b[43m(\u001b[49m\u001b[43msizeLimit\u001b[49m\u001b[43m)\u001b[49m\u001b[43m,\u001b[49m\u001b[43m \u001b[49m\u001b[38;5;124;43m\"\u001b[39;49m\u001b[38;5;124;43mGSQL-TIMEOUT\u001b[39;49m\u001b[38;5;124;43m\"\u001b[39;49m\u001b[43m:\u001b[49m\u001b[43m \u001b[49m\u001b[38;5;28;43mstr\u001b[39;49m\u001b[43m(\u001b[49m\u001b[43mtimeout\u001b[49m\u001b[43m)\u001b[49m\u001b[43m}\u001b[49m\u001b[43m)\u001b[49m\n\u001b[1;32m     72\u001b[0m \u001b[38;5;28;01mif\u001b[39;00m logger\u001b[38;5;241m.\u001b[39mlevel \u001b[38;5;241m==\u001b[39m logging\u001b[38;5;241m.\u001b[39mDEBUG:\n\u001b[1;32m     73\u001b[0m     logger\u001b[38;5;241m.\u001b[39mdebug(\u001b[38;5;124m\"\u001b[39m\u001b[38;5;124mreturn: \u001b[39m\u001b[38;5;124m\"\u001b[39m \u001b[38;5;241m+\u001b[39m \u001b[38;5;28mstr\u001b[39m(res))\n",
      "File \u001b[0;32m~/homebrew/anaconda3/envs/myenv/lib/python3.10/site-packages/pyTigerGraph/pyTigerGraphBase.py:355\u001b[0m, in \u001b[0;36mpyTigerGraphBase._post\u001b[0;34m(self, url, authMode, headers, data, resKey, skipCheck, params, jsonData)\u001b[0m\n\u001b[1;32m    352\u001b[0m \u001b[38;5;28;01mif\u001b[39;00m logger\u001b[38;5;241m.\u001b[39mlevel \u001b[38;5;241m==\u001b[39m logging\u001b[38;5;241m.\u001b[39mDEBUG:\n\u001b[1;32m    353\u001b[0m     logger\u001b[38;5;241m.\u001b[39mdebug(\u001b[38;5;124m\"\u001b[39m\u001b[38;5;124mparams: \u001b[39m\u001b[38;5;124m\"\u001b[39m \u001b[38;5;241m+\u001b[39m \u001b[38;5;28mself\u001b[39m\u001b[38;5;241m.\u001b[39m_locals(\u001b[38;5;28mlocals\u001b[39m()))\n\u001b[0;32m--> 355\u001b[0m res \u001b[38;5;241m=\u001b[39m \u001b[38;5;28;43mself\u001b[39;49m\u001b[38;5;241;43m.\u001b[39;49m\u001b[43m_req\u001b[49m\u001b[43m(\u001b[49m\u001b[38;5;124;43m\"\u001b[39;49m\u001b[38;5;124;43mPOST\u001b[39;49m\u001b[38;5;124;43m\"\u001b[39;49m\u001b[43m,\u001b[49m\u001b[43m \u001b[49m\u001b[43murl\u001b[49m\u001b[43m,\u001b[49m\u001b[43m \u001b[49m\u001b[43mauthMode\u001b[49m\u001b[43m,\u001b[49m\u001b[43m \u001b[49m\u001b[43mheaders\u001b[49m\u001b[43m,\u001b[49m\u001b[43m \u001b[49m\u001b[43mdata\u001b[49m\u001b[43m,\u001b[49m\u001b[43m \u001b[49m\u001b[43mresKey\u001b[49m\u001b[43m,\u001b[49m\u001b[43m \u001b[49m\u001b[43mskipCheck\u001b[49m\u001b[43m,\u001b[49m\u001b[43m \u001b[49m\u001b[43mparams\u001b[49m\u001b[43m,\u001b[49m\u001b[43m \u001b[49m\u001b[43mjsonData\u001b[49m\u001b[38;5;241;43m=\u001b[39;49m\u001b[43mjsonData\u001b[49m\u001b[43m)\u001b[49m\n\u001b[1;32m    357\u001b[0m \u001b[38;5;28;01mif\u001b[39;00m logger\u001b[38;5;241m.\u001b[39mlevel \u001b[38;5;241m==\u001b[39m logging\u001b[38;5;241m.\u001b[39mDEBUG:\n\u001b[1;32m    358\u001b[0m     logger\u001b[38;5;241m.\u001b[39mdebug(\u001b[38;5;124m\"\u001b[39m\u001b[38;5;124mreturn: \u001b[39m\u001b[38;5;124m\"\u001b[39m \u001b[38;5;241m+\u001b[39m \u001b[38;5;28mstr\u001b[39m(res))\n",
      "File \u001b[0;32m~/homebrew/anaconda3/envs/myenv/lib/python3.10/site-packages/pyTigerGraph/pyTigerGraphBase.py:275\u001b[0m, in \u001b[0;36mpyTigerGraphBase._req\u001b[0;34m(self, method, url, authMode, headers, data, resKey, skipCheck, params, strictJson, jsonData)\u001b[0m\n\u001b[1;32m    272\u001b[0m     res \u001b[38;5;241m=\u001b[39m requests\u001b[38;5;241m.\u001b[39mrequest(method, url, headers\u001b[38;5;241m=\u001b[39m_headers, data\u001b[38;5;241m=\u001b[39m_data, params\u001b[38;5;241m=\u001b[39mparams, verify\u001b[38;5;241m=\u001b[39mverify)\n\u001b[1;32m    274\u001b[0m \u001b[38;5;28;01mif\u001b[39;00m res\u001b[38;5;241m.\u001b[39mstatus_code \u001b[38;5;241m!=\u001b[39m \u001b[38;5;241m200\u001b[39m:\n\u001b[0;32m--> 275\u001b[0m     \u001b[43mres\u001b[49m\u001b[38;5;241;43m.\u001b[39;49m\u001b[43mraise_for_status\u001b[49m\u001b[43m(\u001b[49m\u001b[43m)\u001b[49m\n\u001b[1;32m    276\u001b[0m res \u001b[38;5;241m=\u001b[39m json\u001b[38;5;241m.\u001b[39mloads(res\u001b[38;5;241m.\u001b[39mtext, strict\u001b[38;5;241m=\u001b[39mstrictJson)\n\u001b[1;32m    277\u001b[0m \u001b[38;5;28;01mif\u001b[39;00m \u001b[38;5;129;01mnot\u001b[39;00m skipCheck:\n",
      "File \u001b[0;32m~/homebrew/anaconda3/envs/myenv/lib/python3.10/site-packages/requests/models.py:1021\u001b[0m, in \u001b[0;36mResponse.raise_for_status\u001b[0;34m(self)\u001b[0m\n\u001b[1;32m   1016\u001b[0m     http_error_msg \u001b[38;5;241m=\u001b[39m (\n\u001b[1;32m   1017\u001b[0m         \u001b[38;5;124mf\u001b[39m\u001b[38;5;124m\"\u001b[39m\u001b[38;5;132;01m{\u001b[39;00m\u001b[38;5;28mself\u001b[39m\u001b[38;5;241m.\u001b[39mstatus_code\u001b[38;5;132;01m}\u001b[39;00m\u001b[38;5;124m Server Error: \u001b[39m\u001b[38;5;132;01m{\u001b[39;00mreason\u001b[38;5;132;01m}\u001b[39;00m\u001b[38;5;124m for url: \u001b[39m\u001b[38;5;132;01m{\u001b[39;00m\u001b[38;5;28mself\u001b[39m\u001b[38;5;241m.\u001b[39murl\u001b[38;5;132;01m}\u001b[39;00m\u001b[38;5;124m\"\u001b[39m\n\u001b[1;32m   1018\u001b[0m     )\n\u001b[1;32m   1020\u001b[0m \u001b[38;5;28;01mif\u001b[39;00m http_error_msg:\n\u001b[0;32m-> 1021\u001b[0m     \u001b[38;5;28;01mraise\u001b[39;00m HTTPError(http_error_msg, response\u001b[38;5;241m=\u001b[39m\u001b[38;5;28mself\u001b[39m)\n",
      "\u001b[0;31mHTTPError\u001b[0m: 502 Server Error: Bad Gateway for url: http://localhost:9000/ddl/MedGraph?tag=loadPatient&filename=patients"
     ]
    }
   ],
   "source": [
    "patients_file = \"/users/rjanaswa/workspace-inv/Synthea-Medgraph/data/patients.csv\"\n",
    "results = conn.runLoadingJobWithFile(patients_file, \"patients\", \"loadPatient\")\n",
    "print(json.dumps(results, indent=2))"
   ]
  },
  {
   "cell_type": "code",
   "execution_count": 35,
   "id": "1da3cb1c",
   "metadata": {},
   "outputs": [
    {
     "name": "stderr",
     "output_type": "stream",
     "text": [
      "No such file or directory\n"
     ]
    },
    {
     "name": "stdout",
     "output_type": "stream",
     "text": [
      "null\n"
     ]
    }
   ],
   "source": [
    "locations_file = \"/users/ragavahini/workspace-inv/Synthea-Medgraph/data/demographics copy.csv\"\n",
    "results = conn.uploadFile(locations_file, fileTag='f1', jobName='loadLocations')\n",
    "print(json.dumps(results, indent=2))"
   ]
  },
  {
   "cell_type": "code",
   "execution_count": null,
   "id": "5867d92e",
   "metadata": {},
   "outputs": [],
   "source": [
    "symptoms_file = \"/users/ragavahini/workspace-inv/Synthea-Medgraph/data/normalizedSymptoms copy.csv\"\n",
    "results = conn.uploadFile(symptoms_file, fileTag='f1', jobName='loadPatientSymptoms')\n",
    "print(json.dumps(results, indent=2))"
   ]
  },
  {
   "cell_type": "code",
   "execution_count": null,
   "id": "135cb64d",
   "metadata": {},
   "outputs": [],
   "source": [
    "allergies_file = \"/users/ragavahini/workspace-inv/Synthea-Medgraph/data/allergies copy.csv\"\n",
    "results = conn.uploadFile(allergies_file, fileTag='f1', jobName='loadAllergies')\n",
    "print(json.dumps(results, indent=2))"
   ]
  },
  {
   "cell_type": "code",
   "execution_count": null,
   "id": "5326d145",
   "metadata": {},
   "outputs": [],
   "source": [
    "careplans_file = \"/users/ragavahini/workspace-inv/Synthea-Medgraph/data/careplans copy.csv\"\n",
    "results = conn.uploadFile(careplans_file, fileTag='f1', jobName='loadCareplans')\n",
    "print(json.dumps(results, indent=2))"
   ]
  },
  {
   "cell_type": "code",
   "execution_count": null,
   "id": "2888d4eb",
   "metadata": {},
   "outputs": [],
   "source": [
    "conditions_file =\"/users/ragavahini/workspace-inv/Synthea-Medgraph/data/conditions copy.csv\"\n",
    "results = conn.uploadFile(conditions_file, fileTag='f1', jobName='loadConditions')\n",
    "print(json.dumps(results, indent=2))"
   ]
  },
  {
   "cell_type": "code",
   "execution_count": null,
   "id": "6858aabc",
   "metadata": {},
   "outputs": [],
   "source": [
    "devices_file = \"/users/ragavahini/workspace-inv/Synthea-Medgraph/data/devices copy.csv\"\n",
    "results = conn.uploadFile(devices_file, fileTag='f1', jobName='loadDevices')\n",
    "print(json.dumps(results, indent=2))"
   ]
  },
  {
   "cell_type": "code",
   "execution_count": null,
   "id": "667c9cc3",
   "metadata": {},
   "outputs": [],
   "source": [
    "encounters_file =\"/users/ragavahini/workspace-inv/Synthea-Medgraph/data/encounters copy.csv\"\n",
    "results = conn.uploadFile(encounters_file, fileTag='f1', jobName='loadEncounters')\n",
    "print(json.dumps(results, indent=2))"
   ]
  },
  {
   "cell_type": "code",
   "execution_count": null,
   "id": "33846d81",
   "metadata": {},
   "outputs": [],
   "source": [
    "imaging_file =\"/users/ragavahini/workspace-inv/Synthea-Medgraph/data/imaging_studies copy.csv\"\n",
    "results = conn.uploadFile(imaging_file, fileTag='f1', jobName='loadImaging')\n",
    "print(json.dumps(results, indent=2))"
   ]
  },
  {
   "cell_type": "code",
   "execution_count": null,
   "id": "62b01798",
   "metadata": {},
   "outputs": [],
   "source": [
    "immunizations_file = \"/users/ragavahini/workspace-inv/Synthea-Medgraph/data/immunizations copy.csv\"\n",
    "results = conn.uploadFile(immunizations_file, fileTag='f1', jobName='loadImmunizations')\n",
    "print(json.dumps(results, indent=2))"
   ]
  },
  {
   "cell_type": "code",
   "execution_count": null,
   "id": "96d12470",
   "metadata": {},
   "outputs": [],
   "source": [
    "observations_file =\"/users/ragavahini/workspace-inv/Synthea-Medgraph/data/observations copy.csv\"\n",
    "results = conn.uploadFile(observations_file, fileTag='f1', jobName='loadObservations')\n",
    "#print(json.dumps(results, indent=2))"
   ]
  },
  {
   "cell_type": "code",
   "execution_count": null,
   "id": "ee8bebbf",
   "metadata": {},
   "outputs": [],
   "source": [
    "organizations_file =\"/users/ragavahini/workspace-inv/Synthea-Medgraph/data/organizations copy.csv\"\n",
    "results = conn.uploadFile(organizations_file, fileTag='f1', jobName='loadOrganizations')\n",
    "#print(json.dumps(results, indent=2))"
   ]
  },
  {
   "cell_type": "code",
   "execution_count": null,
   "id": "6b999b0c",
   "metadata": {},
   "outputs": [],
   "source": [
    "transitions_file = \"/users/ragavahini/workspace-inv/Synthea-Medgraph/data/payer_transitions copy.csv\"\n",
    "results = conn.uploadFile(transitions_file, fileTag='f1', jobName='loadPayerTransitions')\n",
    "#print(json.dumps(results, indent=2))"
   ]
  },
  {
   "cell_type": "code",
   "execution_count": null,
   "id": "581ac929",
   "metadata": {},
   "outputs": [],
   "source": [
    "payers_file =\"/users/ragavahini/workspace-inv/Synthea-Medgraph/data/payers copy.csv\"\n",
    "results = conn.uploadFile(payers_file, fileTag='f1', jobName='loadPayers')\n",
    "print(json.dumps(results, indent=2))"
   ]
  },
  {
   "cell_type": "code",
   "execution_count": null,
   "id": "7b9a4752",
   "metadata": {},
   "outputs": [],
   "source": [
    "procedures_file =\"/users/ragavahini/workspace-inv/Synthea-Medgraph/data/procedures copy.csv\"\n",
    "results = conn.uploadFile(procedures_file, fileTag='f1', jobName='loadProcedures')\n",
    "print(json.dumps(results, indent=2))"
   ]
  },
  {
   "cell_type": "code",
   "execution_count": null,
   "id": "e28f491c",
   "metadata": {},
   "outputs": [],
   "source": [
    "providers_file = \"/users/ragavahini/workspace-inv/Synthea-Medgraph/data/providers copy.csv\"\n",
    "results = conn.uploadFile(providers_file, fileTag='f1', jobName='loadProviders')\n",
    "print(json.dumps(results, indent=2))"
   ]
  },
  {
   "cell_type": "code",
   "execution_count": null,
   "id": "f4f0ccd4",
   "metadata": {},
   "outputs": [],
   "source": [
    "# Verteces Count\n",
    "print(\"VERTICES COUNT\")\n",
    "print(conn.getVertexCount(\"*\"))\n",
    "print(\"EDGES COUNT\")\n",
    "print(conn.getEdgeCount())"
   ]
  },
  {
   "cell_type": "code",
   "execution_count": null,
   "id": "9a23cfb1",
   "metadata": {},
   "outputs": [],
   "source": [
    "print(conn.getVertexStats(\"Patient\"))"
   ]
  },
  {
   "cell_type": "code",
   "execution_count": null,
   "id": "cc4e3726",
   "metadata": {},
   "outputs": [],
   "source": [
    "print(conn.getVertexDataframe(\"Providers\", limit=\"1\"))"
   ]
  },
  {
   "cell_type": "code",
   "execution_count": null,
   "id": "e1da101f",
   "metadata": {},
   "outputs": [],
   "source": [
    "results = conn.gsql('''\n",
    "USE GRAPH MedGraph\n",
    "CREATE QUERY get_patient_conditions (STRING firstName, STRING lastName) for graph MedGraph {\n",
    "    /* Sample: firstName = Antony, lastName = Hudson */\n",
    "\n",
    "    Seed = {Patient.*};\n",
    "  \n",
    "    patient = SELECT s\n",
    "               FROM Seed:s\n",
    "               WHERE s.lastName == lastName AND s.firstName == firstName;\n",
    "\n",
    "    response = SELECT c\n",
    "                FROM patient:s - (PATIENT_HAS_CONDITION:e) - Conditions:c;\n",
    "\n",
    "    PRINT patient;\n",
    "    PRINT response;\n",
    "}\n",
    "''')\n",
    "print(results)"
   ]
  },
  {
   "cell_type": "code",
   "execution_count": null,
   "id": "efac494a",
   "metadata": {},
   "outputs": [],
   "source": [
    "print(conn.gsql('''\n",
    "USE GRAPH MedGraph\n",
    "INSTALL QUERY get_patient_conditions\n",
    "'''))"
   ]
  },
  {
   "cell_type": "code",
   "execution_count": null,
   "id": "99fd2c07",
   "metadata": {},
   "outputs": [],
   "source": [
    "results = conn.runInstalledQuery(\"get_patient_conditions\", params={\"firstName\": \"Jina\", \"lastName\": \"Johns\"})\n",
    "print(json.dumps(results, indent=2))"
   ]
  },
  {
   "cell_type": "code",
   "execution_count": null,
   "id": "7bc0f647",
   "metadata": {},
   "outputs": [],
   "source": [
    "results = conn.gsql('''\n",
    "USE GRAPH MedGraph\n",
    "CREATE QUERY get_patient_codes(STRING firstName, STRING lastName) FOR GRAPH MedGraph SYNTAX v2{ \n",
    "  \n",
    "  Seed = {Patient.*};\n",
    "  \n",
    "  patient = SELECT s FROM Seed:s\n",
    "            WHERE s.lastName == lastName AND s.firstName == firstName;\n",
    "  \n",
    "  codes = SELECT c FROM patient - () - :v - () - SnomedCode:c;\n",
    "  \n",
    "  PRINT patient;\n",
    "  PRINT codes;\n",
    "}\n",
    "INSTALL QUERY get_patient_codes\n",
    "''')\n",
    "print(results)"
   ]
  },
  {
   "cell_type": "code",
   "execution_count": null,
   "id": "3fc1929a",
   "metadata": {},
   "outputs": [],
   "source": [
    "results = conn.runInstalledQuery(\"get_patient_codes\", params={\"firstName\": \"Cole\", \"lastName\": \"Bayer\"})\n",
    "print(json.dumps(results, indent=2))"
   ]
  },
  {
   "cell_type": "code",
   "execution_count": null,
   "id": "db27e17a",
   "metadata": {},
   "outputs": [],
   "source": [
    "results = conn.gsql('''\n",
    "USE GRAPH MedGraph\n",
    "CREATE QUERY get_code_cost(VERTEX<SnomedCode> inCode) FOR GRAPH MedGraph RETURNS(DOUBLE){ \n",
    "  AvgAccum @@avgCost;\n",
    "  \n",
    "  code = {inCode};\n",
    "  \n",
    "  payments = SELECT p FROM code:c - (MEDICATION_CODE|PROCEDURE_CODE|IMMUNIZATION_CODE) - :p\n",
    "    ACCUM\n",
    "      @@avgCost += p.baseCost;\n",
    "\n",
    "  PRINT @@avgCost;\n",
    "  RETURN @@avgCost;\n",
    "}\n",
    "INSTALL QUERY get_code_cost\n",
    "''')\n",
    "print(results)"
   ]
  },
  {
   "cell_type": "code",
   "execution_count": null,
   "id": "5bc0b96a",
   "metadata": {},
   "outputs": [],
   "source": [
    "results = conn.runInstalledQuery(\"get_code_cost\", params={\"inCode\": \"288086009\"})\n",
    "print(json.dumps(results, indent=2))"
   ]
  },
  {
   "cell_type": "code",
   "execution_count": null,
   "id": "851c692f",
   "metadata": {},
   "outputs": [],
   "source": [
    "results = conn.gsql('''\n",
    "USE GRAPH MedGraph\n",
    "CREATE QUERY get_cost_outliers(VERTEX<SnomedCode> inCode, FLOAT threshold = 0.9) FOR GRAPH MedGraph RETURNS(SET<VERTEX>){ \n",
    "  MapAccum<VERTEX, DOUBLE> @@highCosts;\n",
    "  DOUBLE avgCost, mult;\n",
    "  \n",
    "  avgCost = get_code_cost(inCode);\n",
    "  mult = threshold + 1;\n",
    "  \n",
    "  code = {inCode};\n",
    "  \n",
    "  payments = SELECT p FROM code:c - (MEDICATION_CODE|PROCEDURE_CODE|IMMUNIZATION_CODE) - :p\n",
    "    WHERE\n",
    "      p.baseCost > avgCost * mult\n",
    "    ACCUM\n",
    "        @@highCosts += (p -> p.baseCost)\n",
    "    ORDER BY p.baseCost DESC;\n",
    "  \n",
    "  PRINT avgCost;\n",
    "  PRINT @@highCosts;\n",
    "  RETURN payments;\n",
    "}\n",
    "INSTALL QUERY get_cost_outliers\n",
    "''')\n",
    "print(results)"
   ]
  },
  {
   "cell_type": "code",
   "execution_count": null,
   "id": "1afc73dd",
   "metadata": {},
   "outputs": [],
   "source": [
    "results = conn.gsql('''\n",
    "USE GRAPH MedGraph\n",
    "CREATE QUERY get_high_cost_providers() FOR GRAPH MedGraph SYNTAX v2{ \n",
    "  SetAccum<VERTEX> @@highCostActions;\n",
    "  MapAccum<VERTEX, SumAccum<INT>> @@highCostProviers;\n",
    "  SumAccum<INT> @highCost;\n",
    "  SumAccum<FLOAT> @edges;\n",
    "  SumAccum<FLOAT> @pctHigh;\n",
    "  \n",
    "  \n",
    "  codes = {SnomedCode.*};\n",
    "  \n",
    "  code = SELECT c FROM codes:c\n",
    "  ACCUM\n",
    "    @@highCostActions += get_cost_outliers(c, 0.9);\n",
    "  \n",
    "  actions = {@@highCostActions};\n",
    "  \n",
    "  highCostProviders = SELECT p FROM actions - () - Encounter - (ENCOUNTER_HAS_PROVIDER) - Providers:p\n",
    "  ACCUM\n",
    "    p.@highCost += 1\n",
    "  POST-ACCUM\n",
    "    p.@edges += p.outdegree(\"ENCOUNTER_HAS_PROVIDER\"),\n",
    "    p.@pctHigh += p.@highCost / p.@edges;\n",
    "  \n",
    "  \n",
    "  topProviders = SELECT p FROM highCostProviders:p\n",
    "    WHERE p.@edges > 10\n",
    "    ORDER BY\n",
    "      p.@pctHigh DESC\n",
    "    LIMIT\n",
    "      10;\n",
    "  \n",
    "  PRINT topProviders;\n",
    "}\n",
    "INSTALL QUERY get_high_cost_providers\n",
    "''')\n",
    "print(results)"
   ]
  },
  {
   "cell_type": "code",
   "execution_count": null,
   "id": "835fdb74",
   "metadata": {},
   "outputs": [],
   "source": [
    "results = conn.runInstalledQuery(\"get_cost_outliers\", params={\"inCode\": \"395142003\", \"threshold\": \"0.9\"})\n",
    "print(json.dumps(results, indent=2))"
   ]
  },
  {
   "cell_type": "code",
   "execution_count": null,
   "id": "784572a3",
   "metadata": {},
   "outputs": [],
   "source": [
    "results = conn.runInstalledQuery(\"get_high_cost_providers\")\n",
    "print(results)"
   ]
  },
  {
   "cell_type": "code",
   "execution_count": null,
   "id": "266f474e",
   "metadata": {},
   "outputs": [],
   "source": [
    "results = conn.gsql('''\n",
    "USE GRAPH MedGraph\n",
    "CREATE QUERY check_distance(VERTEX <Address> l1, DOUBLE pLat, DOUBLE pLon) FOR GRAPH MedGraph RETURNS(FLOAT){ \n",
    "  DOUBLE a, c, distance, rads;\n",
    "\tDOUBLE x, y, r;\n",
    "\tPRINT l1.lat;\n",
    "\tPRINT l1.lon;\n",
    "\tPRINT pLat;\n",
    "\tPRINT pLon;\n",
    "\tr = 6371; # Earth radius in KM\n",
    "  rads = 0.0174532925; # pi / 180\n",
    "\tx = (pLat - l1.lat);\n",
    "\ty = rads*(pLon - l1.lon);\n",
    "\ta = sin(x/2)*sin(x/2)+cos(rads*(l1.lat))*cos(rads*(pLat))*sin(y/2)*sin(y/2);\n",
    "\tc = 2*atan2(sqrt(a), sqrt(1-a));\n",
    "\tdistance = r*c;\n",
    "\t\n",
    "\tPRINT distance;\n",
    "\tRETURN distance;\n",
    "}\n",
    "INSTALL QUERY check_distance\n",
    "''')\n",
    "print(results)"
   ]
  },
  {
   "cell_type": "code",
   "execution_count": null,
   "id": "d391092e",
   "metadata": {},
   "outputs": [],
   "source": [
    "results = conn.gsql('''\n",
    "CREATE QUERY cosine_patient_demographics(STRING firstName, STRING lastName, INT topK) FOR GRAPH MedGraph returns (MapAccum<VERTEX, DOUBLE>) {\n",
    "    MapAccum<VERTEX, DOUBLE> @@topk_result;\n",
    "    SumAccum<DOUBLE> @latitude, @longitude, @distance, @similarity, @ageCount;\n",
    "    SumAccum<INT> @age, @sexCount, @raceCount, @ethnicityCount;\n",
    "    SumAccum<STRING> @sex, @race, @ethnicity;\n",
    "    MaxAccum<DOUBLE> @@maxDistance;\n",
    "    STRING patientSex, patientRace, patientEthnicity, patientID;\n",
    "    INT patientAge;\n",
    "    DOUBLE patientLat, patientLon, dLat, dLon, a, c, d;\n",
    "\n",
    "    # Possibly include these factors as well\n",
    "    # SumAccum<INT> @healthcareExpense, @healthcareCoverage, @maritulstatus\n",
    "\n",
    "    SOURCE = {Patient.*};\n",
    "\n",
    "    patients = SELECT s FROM SOURCE:s - (PATIENT_GENDER:e) - :t\n",
    "    WHERE \n",
    "      s.lastName == lastName AND s.firstName == firstName\n",
    "    ACCUM \n",
    "      s.@sex = t.gender_id,\n",
    "      patientSex = t.gender_id,\n",
    "      s.@age = year(now()) - year(s.birthday),\n",
    "      patientAge = year(now()) - year(s.birthday),\n",
    "      patientID = s.patient_id;\n",
    "  \n",
    "    patients = SELECT s FROM patients:s - (PATIENT_RACE:e) - :t\n",
    "    ACCUM \n",
    "      s.@race = t.race_id,\n",
    "      patientRace = t.race_id;\n",
    "    \n",
    "    patients = SELECT s FROM patients:s - (PATIENT_ETHNICITY:e) - :t\n",
    "    ACCUM \n",
    "      s.@ethnicity = t.ethnicity_id,\n",
    "      patientEthnicity = t.ethnicity_id;\n",
    "\n",
    "    patients = SELECT s FROM patients:s - (PATIENT_ADDRESS:e) - Address:t\n",
    "    ACCUM\n",
    "      s.@latitude = t.lat,\n",
    "      s.@longitude = t.lon,\n",
    "      patientLat = t.lat,\n",
    "      patientLon = t.lon;\n",
    "\n",
    "    PRINT patients[patients.lastName, patients.firstName, patients.patient_id, patients.@sex, patients.@age, patients.@race, patients.@ethnicity, patients.@latitude, patients.@longitude];\n",
    "\n",
    "    subjects = SELECT s FROM SOURCE:s - (PATIENT_GENDER:e) - :t\n",
    "    WHERE\n",
    "      s.patient_id != patientID\n",
    "    ACCUM s.@age = year(now()) - year(s.birthday),\n",
    "      IF t.gender_id == patientSex\n",
    "      THEN \n",
    "        s.@sexCount = 1\n",
    "      ELSE\n",
    "        s.@sexCount = 0\n",
    "      END\n",
    "      POST-ACCUM\n",
    "        IF s.@age > patientAge\n",
    "        THEN\n",
    "          s.@ageCount = patientAge / s.@age\n",
    "        ELSE\n",
    "          s.@ageCount = s.@age/ patientAge\n",
    "        END;\n",
    "  \n",
    "    subjects = SELECT s FROM subjects:s - (PATIENT_RACE:e) - :t\n",
    "      ACCUM \n",
    "        IF t.race_id == patientRace\n",
    "        THEN\n",
    "          s.@raceCount = 1\n",
    "        ELSE\n",
    "          s.@raceCount = 0\n",
    "        END;\n",
    "\n",
    "    subjects = SELECT s FROM subjects:s - (PATIENT_ETHNICITY:e) - :t\n",
    "      ACCUM\n",
    "        If t.ethnicity_id == patientEthnicity\n",
    "        THEN\n",
    "          s.@ethnicityCount = 1\n",
    "        ELSE\n",
    "          s.@ethnicityCount = 0\n",
    "        END;\n",
    "\n",
    "    subjects = SELECT s FROM subjects:s - (PATIENT_ADDRESS:e) - :t\n",
    "      ACCUM \n",
    "        s.@distance = check_distance(t, patientLat, patientLon)\n",
    "      POST-ACCUM\n",
    "        @@maxDistance += s.@distance,\n",
    "        s.@similarity = (s.@ageCount + s.@sexCount + s.@ethnicityCount + s.@raceCount + (1-(s.@distance / @@maxDistance)))/6\n",
    "      ORDER BY s.@similarity DESC\n",
    "      LIMIT topK;\n",
    "\n",
    "    subjects = SELECT s FROM subjects: s\n",
    "      ACCUM\n",
    "        @@topk_result += (s-> s.@similarity);\n",
    "  \n",
    "    PRINT @@topk_result;\n",
    "    RETURN @@topk_result;\n",
    "}\n",
    "INSTALL QUERY cosine_patient_demographics\n",
    "''')\n",
    "print(results)"
   ]
  },
  {
   "cell_type": "code",
   "execution_count": null,
   "id": "5543de4c",
   "metadata": {},
   "outputs": [],
   "source": [
    "results = conn.runInstalledQuery(\"cosine_patient_demographics\", params={\"firstName\": \"Lee\", \"lastName\": \"Orn\", \"topK\": \"10\"})\n",
    "print(results)"
   ]
  },
  {
   "cell_type": "code",
   "execution_count": null,
   "id": "b8e767a7",
   "metadata": {},
   "outputs": [],
   "source": [
    "# conn.gsql('''\n",
    "# DROP ALL\n",
    "# ''')"
   ]
  }
 ],
 "metadata": {
  "kernelspec": {
   "display_name": "Python 3 (ipykernel)",
   "language": "python",
   "name": "python3"
  },
  "language_info": {
   "codemirror_mode": {
    "name": "ipython",
    "version": 3
   },
   "file_extension": ".py",
   "mimetype": "text/x-python",
   "name": "python",
   "nbconvert_exporter": "python",
   "pygments_lexer": "ipython3",
   "version": "3.10.8"
  }
 },
 "nbformat": 4,
 "nbformat_minor": 5
}
